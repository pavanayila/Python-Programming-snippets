{
 "cells": [
  {
   "cell_type": "markdown",
   "metadata": {},
   "source": [
    "# Single Linked List Insertion"
   ]
  },
  {
   "cell_type": "markdown",
   "metadata": {},
   "source": [
    "# To add a newnode to the end of the linkedlist"
   ]
  },
  {
   "cell_type": "code",
   "execution_count": 22,
   "metadata": {},
   "outputs": [
    {
     "name": "stdout",
     "output_type": "stream",
     "text": [
      "The LinkedList is\n",
      "A\n",
      "B\n",
      "C\n",
      "D\n",
      "E\n"
     ]
    }
   ],
   "source": [
    "class Node:\n",
    "    def __init__(self, data):\n",
    "        self.data = data\n",
    "        self.next = None\n",
    "        \n",
    "class LinkedList:\n",
    "    def __init__(self):\n",
    "        self.head = None\n",
    "        \n",
    "    def print_linkedlist(self):\n",
    "        \"\"\"To print the entire Linkedlist\"\"\"\n",
    "        \n",
    "        cur_node = self.head\n",
    "        while cur_node:\n",
    "            print(cur_node.data)\n",
    "            cur_node = cur_node.next\n",
    "            \n",
    "    def append(self, data):\n",
    "        \"\"\"Inserting a node to the end of the Linkedlist.\"\"\"\n",
    "        \n",
    "        new_node = Node(data)\n",
    "        if self.head is None:\n",
    "            self.head = new_node\n",
    "            return\n",
    "        last_node = self.head\n",
    "        \n",
    "        while last_node.next:\n",
    "            last_node = last_node.next\n",
    "        last_node.next = new_node\n",
    "        \n",
    "llist = LinkedList()\n",
    "print(\"The LinkedList is\")\n",
    "llist.append(\"A\")\n",
    "llist.append(\"B\")\n",
    "llist.append(\"C\")\n",
    "llist.append(\"D\")\n",
    "llist.append(\"E\")\n",
    "llist.print_linkedlist()"
   ]
  },
  {
   "cell_type": "markdown",
   "metadata": {},
   "source": [
    "# To add a new node after anynode in the linkedlist"
   ]
  },
  {
   "cell_type": "code",
   "execution_count": 23,
   "metadata": {},
   "outputs": [
    {
     "name": "stdout",
     "output_type": "stream",
     "text": [
      "The Linkedlist after a newnode to the end of the linkedlist\n",
      "A\n",
      "B\n",
      "C\n",
      "D\n",
      "E\n",
      "\n",
      "The Head of the linkedlist is  A\n",
      "The Second node in the Linkedlist is  B\n",
      "The third node in the Linkedlist is  C\n",
      "\n",
      "After adding a new node after anynode in the linkedlist \n",
      "A\n",
      "B\n",
      "F\n",
      "C\n",
      "D\n",
      "E\n"
     ]
    }
   ],
   "source": [
    "class Node:\n",
    "    def __init__(self, data):\n",
    "        self.data = data\n",
    "        self.next = None\n",
    "        \n",
    "class LinkedList:\n",
    "    def __init__(self):\n",
    "        self.head = None\n",
    "        \n",
    "    def print_linkedlist(self):\n",
    "        \"\"\"To print the entire Linkedlist\"\"\"\n",
    "        \n",
    "        cur_node = self.head\n",
    "        while cur_node:\n",
    "            print(cur_node.data)\n",
    "            cur_node = cur_node.next\n",
    "            \n",
    "    def append(self, data):\n",
    "        \"\"\"To add a newnode to the end of the Linkedlist.\"\"\"\n",
    "        \n",
    "        new_node = Node(data)\n",
    "        if self.head is None:\n",
    "            self.head = new_node\n",
    "            return\n",
    "        last_node = self.head\n",
    "        \n",
    "        while last_node.next:\n",
    "            last_node = last_node.next\n",
    "        last_node.next = new_node\n",
    "            \n",
    "    def insert_after_node(self, prev_node, data):\n",
    "        \"\"\"To add a newnode after any node in the Linkedlist.\"\"\"\n",
    "        \n",
    "        if not prev_node:\n",
    "            print(\"Previous node is not in the list\")\n",
    "            return\n",
    "        new_node = Node(data)\n",
    "        new_node.next = prev_node.next\n",
    "        prev_node.next = new_node\n",
    "        \n",
    "llist = LinkedList()\n",
    "llist.append(\"A\")\n",
    "llist.append(\"B\")\n",
    "llist.append(\"C\")\n",
    "llist.append(\"D\")\n",
    "llist.append(\"E\")\n",
    "print(\"The Linkedlist after inserting a newnode to the end of the linkedlist\")\n",
    "llist.print_linkedlist()\n",
    "\n",
    "print(\"\\nThe Head of the linkedlist is \",llist.head.data)\n",
    "print(\"The Second node in the Linkedlist is \",llist.head.next.data)\n",
    "print(\"The third node in the Linkedlist is \",llist.head.next.next.data)\n",
    "print(\"\\nAfter adding a new node after anynode in the linkedlist \")\n",
    "llist.insert_after_node(llist.head.next, \"F\")\n",
    "llist.print_linkedlist()\n",
    "        \n"
   ]
  },
  {
   "cell_type": "code",
   "execution_count": null,
   "metadata": {},
   "outputs": [],
   "source": []
  }
 ],
 "metadata": {
  "kernelspec": {
   "display_name": "Python 3",
   "language": "python",
   "name": "python3"
  },
  "language_info": {
   "codemirror_mode": {
    "name": "ipython",
    "version": 3
   },
   "file_extension": ".py",
   "mimetype": "text/x-python",
   "name": "python",
   "nbconvert_exporter": "python",
   "pygments_lexer": "ipython3",
   "version": "3.8.2"
  }
 },
 "nbformat": 4,
 "nbformat_minor": 4
}
